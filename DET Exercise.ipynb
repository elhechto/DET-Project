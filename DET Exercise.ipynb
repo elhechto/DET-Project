{
 "cells": [
  {
   "cell_type": "markdown",
   "id": "f47058dd",
   "metadata": {},
   "source": [
    "A)"
   ]
  },
  {
   "cell_type": "markdown",
   "id": "8afc6afb",
   "metadata": {},
   "source": [
    "Import libraries and load data (table was previously transferred to .csv):"
   ]
  },
  {
   "cell_type": "code",
   "execution_count": 1,
   "id": "8f46657e",
   "metadata": {},
   "outputs": [
    {
     "data": {
      "text/html": [
       "<div>\n",
       "<style scoped>\n",
       "    .dataframe tbody tr th:only-of-type {\n",
       "        vertical-align: middle;\n",
       "    }\n",
       "\n",
       "    .dataframe tbody tr th {\n",
       "        vertical-align: top;\n",
       "    }\n",
       "\n",
       "    .dataframe thead th {\n",
       "        text-align: right;\n",
       "    }\n",
       "</style>\n",
       "<table border=\"1\" class=\"dataframe\">\n",
       "  <thead>\n",
       "    <tr style=\"text-align: right;\">\n",
       "      <th></th>\n",
       "      <th>Age</th>\n",
       "      <th>Income</th>\n",
       "      <th>Student</th>\n",
       "      <th>Credit_rating</th>\n",
       "      <th>Buys_computer</th>\n",
       "    </tr>\n",
       "  </thead>\n",
       "  <tbody>\n",
       "    <tr>\n",
       "      <th>0</th>\n",
       "      <td>&lt;=30</td>\n",
       "      <td>High</td>\n",
       "      <td>No</td>\n",
       "      <td>Fair</td>\n",
       "      <td>No</td>\n",
       "    </tr>\n",
       "    <tr>\n",
       "      <th>1</th>\n",
       "      <td>&lt;=30</td>\n",
       "      <td>High</td>\n",
       "      <td>No</td>\n",
       "      <td>Excellent</td>\n",
       "      <td>No</td>\n",
       "    </tr>\n",
       "    <tr>\n",
       "      <th>2</th>\n",
       "      <td>31...40</td>\n",
       "      <td>High</td>\n",
       "      <td>No</td>\n",
       "      <td>Fair</td>\n",
       "      <td>Yes</td>\n",
       "    </tr>\n",
       "    <tr>\n",
       "      <th>3</th>\n",
       "      <td>&gt;40</td>\n",
       "      <td>Medium</td>\n",
       "      <td>No</td>\n",
       "      <td>Fair</td>\n",
       "      <td>Yes</td>\n",
       "    </tr>\n",
       "    <tr>\n",
       "      <th>4</th>\n",
       "      <td>&gt;40</td>\n",
       "      <td>Low</td>\n",
       "      <td>Yes</td>\n",
       "      <td>Fair</td>\n",
       "      <td>Yes</td>\n",
       "    </tr>\n",
       "  </tbody>\n",
       "</table>\n",
       "</div>"
      ],
      "text/plain": [
       "       Age  Income Student Credit_rating Buys_computer\n",
       "0     <=30    High      No          Fair            No\n",
       "1     <=30    High      No     Excellent            No\n",
       "2  31...40    High      No          Fair           Yes\n",
       "3      >40  Medium      No          Fair           Yes\n",
       "4      >40     Low     Yes          Fair           Yes"
      ]
     },
     "execution_count": 1,
     "metadata": {},
     "output_type": "execute_result"
    }
   ],
   "source": [
    "import pandas as pd\n",
    "import numpy as np\n",
    "import math\n",
    "\n",
    "dt = pd.read_csv('data.csv', sep=';').drop('REC',axis=1)\n",
    "dt.head()"
   ]
  },
  {
   "cell_type": "markdown",
   "id": "2b24e5f1",
   "metadata": {},
   "source": [
    "Create function to calculate entropy:"
   ]
  },
  {
   "cell_type": "code",
   "execution_count": 2,
   "id": "e377bd48",
   "metadata": {},
   "outputs": [],
   "source": [
    "# source: https://www.programcreek.com/python/?CodeExample=calculate+entropy\n",
    "\n",
    "def calculate_entropy(y):\n",
    "    \"\"\" Calculate the entropy of label array y \"\"\"\n",
    "    log2 = lambda x: math.log(x) / math.log(2)\n",
    "    unique_labels = np.unique(y)\n",
    "    entropy = 0\n",
    "    for label in unique_labels:\n",
    "        count = len(y[y == label])\n",
    "        p = count / len(y)\n",
    "        entropy += -p * log2(p)\n",
    "    return entropy "
   ]
  },
  {
   "cell_type": "markdown",
   "id": "8304261c",
   "metadata": {},
   "source": [
    "Calculation of the total entropy of the data set:"
   ]
  },
  {
   "cell_type": "code",
   "execution_count": 3,
   "id": "2f88e2f5",
   "metadata": {},
   "outputs": [
    {
     "data": {
      "text/plain": [
       "0.9709505944546686"
      ]
     },
     "execution_count": 3,
     "metadata": {},
     "output_type": "execute_result"
    }
   ],
   "source": [
    "total_entropy = calculate_entropy(dt['Buys_computer'])\n",
    "total_entropy"
   ]
  },
  {
   "cell_type": "markdown",
   "id": "8409f7c2",
   "metadata": {},
   "source": [
    "Create table, how often a computer is purchased, depending on 'Age':"
   ]
  },
  {
   "cell_type": "code",
   "execution_count": 4,
   "id": "17f66c12",
   "metadata": {},
   "outputs": [
    {
     "data": {
      "text/html": [
       "<div>\n",
       "<style scoped>\n",
       "    .dataframe tbody tr th:only-of-type {\n",
       "        vertical-align: middle;\n",
       "    }\n",
       "\n",
       "    .dataframe tbody tr th {\n",
       "        vertical-align: top;\n",
       "    }\n",
       "\n",
       "    .dataframe thead th {\n",
       "        text-align: right;\n",
       "    }\n",
       "</style>\n",
       "<table border=\"1\" class=\"dataframe\">\n",
       "  <thead>\n",
       "    <tr style=\"text-align: right;\">\n",
       "      <th>Buys_computer</th>\n",
       "      <th>No</th>\n",
       "      <th>Yes</th>\n",
       "      <th>sum</th>\n",
       "    </tr>\n",
       "    <tr>\n",
       "      <th>Age</th>\n",
       "      <th></th>\n",
       "      <th></th>\n",
       "      <th></th>\n",
       "    </tr>\n",
       "  </thead>\n",
       "  <tbody>\n",
       "    <tr>\n",
       "      <th>31...40</th>\n",
       "      <td>0</td>\n",
       "      <td>6</td>\n",
       "      <td>6</td>\n",
       "    </tr>\n",
       "    <tr>\n",
       "      <th>&lt;=30</th>\n",
       "      <td>6</td>\n",
       "      <td>2</td>\n",
       "      <td>8</td>\n",
       "    </tr>\n",
       "    <tr>\n",
       "      <th>&gt;40</th>\n",
       "      <td>2</td>\n",
       "      <td>4</td>\n",
       "      <td>6</td>\n",
       "    </tr>\n",
       "  </tbody>\n",
       "</table>\n",
       "</div>"
      ],
      "text/plain": [
       "Buys_computer  No  Yes  sum\n",
       "Age                        \n",
       "31...40         0    6    6\n",
       "<=30            6    2    8\n",
       ">40             2    4    6"
      ]
     },
     "execution_count": 4,
     "metadata": {},
     "output_type": "execute_result"
    }
   ],
   "source": [
    "freq_age_buys_computer = pd.crosstab(index=dt['Age'], columns=dt['Buys_computer'])\n",
    "freq_age_buys_computer[\"sum\"] = freq_age_buys_computer.sum(axis=1)\n",
    "freq_age_buys_computer"
   ]
  },
  {
   "cell_type": "markdown",
   "id": "a33e8bac",
   "metadata": {},
   "source": [
    "Create table, how often a computer is purchased, depending on 'Income':"
   ]
  },
  {
   "cell_type": "code",
   "execution_count": 5,
   "id": "5aa537da",
   "metadata": {},
   "outputs": [
    {
     "data": {
      "text/html": [
       "<div>\n",
       "<style scoped>\n",
       "    .dataframe tbody tr th:only-of-type {\n",
       "        vertical-align: middle;\n",
       "    }\n",
       "\n",
       "    .dataframe tbody tr th {\n",
       "        vertical-align: top;\n",
       "    }\n",
       "\n",
       "    .dataframe thead th {\n",
       "        text-align: right;\n",
       "    }\n",
       "</style>\n",
       "<table border=\"1\" class=\"dataframe\">\n",
       "  <thead>\n",
       "    <tr style=\"text-align: right;\">\n",
       "      <th>Buys_computer</th>\n",
       "      <th>No</th>\n",
       "      <th>Yes</th>\n",
       "      <th>sum</th>\n",
       "    </tr>\n",
       "    <tr>\n",
       "      <th>Income</th>\n",
       "      <th></th>\n",
       "      <th></th>\n",
       "      <th></th>\n",
       "    </tr>\n",
       "  </thead>\n",
       "  <tbody>\n",
       "    <tr>\n",
       "      <th>High</th>\n",
       "      <td>2</td>\n",
       "      <td>3</td>\n",
       "      <td>5</td>\n",
       "    </tr>\n",
       "    <tr>\n",
       "      <th>Low</th>\n",
       "      <td>3</td>\n",
       "      <td>4</td>\n",
       "      <td>7</td>\n",
       "    </tr>\n",
       "    <tr>\n",
       "      <th>Medium</th>\n",
       "      <td>3</td>\n",
       "      <td>5</td>\n",
       "      <td>8</td>\n",
       "    </tr>\n",
       "  </tbody>\n",
       "</table>\n",
       "</div>"
      ],
      "text/plain": [
       "Buys_computer  No  Yes  sum\n",
       "Income                     \n",
       "High            2    3    5\n",
       "Low             3    4    7\n",
       "Medium          3    5    8"
      ]
     },
     "execution_count": 5,
     "metadata": {},
     "output_type": "execute_result"
    }
   ],
   "source": [
    "freq_income_buys_computer = pd.crosstab(index=dt['Income'], columns=dt['Buys_computer'])\n",
    "freq_income_buys_computer[\"sum\"] = freq_income_buys_computer.sum(axis=1)\n",
    "freq_income_buys_computer"
   ]
  },
  {
   "cell_type": "markdown",
   "id": "cd830b08",
   "metadata": {},
   "source": [
    "Create table, how often a computer is purchased, depending on 'Student':"
   ]
  },
  {
   "cell_type": "code",
   "execution_count": 6,
   "id": "f421030a",
   "metadata": {},
   "outputs": [
    {
     "data": {
      "text/html": [
       "<div>\n",
       "<style scoped>\n",
       "    .dataframe tbody tr th:only-of-type {\n",
       "        vertical-align: middle;\n",
       "    }\n",
       "\n",
       "    .dataframe tbody tr th {\n",
       "        vertical-align: top;\n",
       "    }\n",
       "\n",
       "    .dataframe thead th {\n",
       "        text-align: right;\n",
       "    }\n",
       "</style>\n",
       "<table border=\"1\" class=\"dataframe\">\n",
       "  <thead>\n",
       "    <tr style=\"text-align: right;\">\n",
       "      <th>Buys_computer</th>\n",
       "      <th>No</th>\n",
       "      <th>Yes</th>\n",
       "      <th>sum</th>\n",
       "    </tr>\n",
       "    <tr>\n",
       "      <th>Student</th>\n",
       "      <th></th>\n",
       "      <th></th>\n",
       "      <th></th>\n",
       "    </tr>\n",
       "  </thead>\n",
       "  <tbody>\n",
       "    <tr>\n",
       "      <th>No</th>\n",
       "      <td>7</td>\n",
       "      <td>4</td>\n",
       "      <td>11</td>\n",
       "    </tr>\n",
       "    <tr>\n",
       "      <th>Yes</th>\n",
       "      <td>1</td>\n",
       "      <td>8</td>\n",
       "      <td>9</td>\n",
       "    </tr>\n",
       "  </tbody>\n",
       "</table>\n",
       "</div>"
      ],
      "text/plain": [
       "Buys_computer  No  Yes  sum\n",
       "Student                    \n",
       "No              7    4   11\n",
       "Yes             1    8    9"
      ]
     },
     "execution_count": 6,
     "metadata": {},
     "output_type": "execute_result"
    }
   ],
   "source": [
    "freq_student_buys_computer = pd.crosstab(index=dt['Student'], columns=dt['Buys_computer'])\n",
    "freq_student_buys_computer[\"sum\"] = freq_student_buys_computer.sum(axis=1)\n",
    "freq_student_buys_computer"
   ]
  },
  {
   "cell_type": "markdown",
   "id": "f670928f",
   "metadata": {},
   "source": [
    "Create table, how often a computer is purchased, depending on 'Credit_rating':"
   ]
  },
  {
   "cell_type": "code",
   "execution_count": 7,
   "id": "bb069ab4",
   "metadata": {},
   "outputs": [
    {
     "data": {
      "text/html": [
       "<div>\n",
       "<style scoped>\n",
       "    .dataframe tbody tr th:only-of-type {\n",
       "        vertical-align: middle;\n",
       "    }\n",
       "\n",
       "    .dataframe tbody tr th {\n",
       "        vertical-align: top;\n",
       "    }\n",
       "\n",
       "    .dataframe thead th {\n",
       "        text-align: right;\n",
       "    }\n",
       "</style>\n",
       "<table border=\"1\" class=\"dataframe\">\n",
       "  <thead>\n",
       "    <tr style=\"text-align: right;\">\n",
       "      <th>Buys_computer</th>\n",
       "      <th>No</th>\n",
       "      <th>Yes</th>\n",
       "      <th>sum</th>\n",
       "    </tr>\n",
       "    <tr>\n",
       "      <th>Credit_rating</th>\n",
       "      <th></th>\n",
       "      <th></th>\n",
       "      <th></th>\n",
       "    </tr>\n",
       "  </thead>\n",
       "  <tbody>\n",
       "    <tr>\n",
       "      <th>Excellent</th>\n",
       "      <td>5</td>\n",
       "      <td>5</td>\n",
       "      <td>10</td>\n",
       "    </tr>\n",
       "    <tr>\n",
       "      <th>Fair</th>\n",
       "      <td>3</td>\n",
       "      <td>7</td>\n",
       "      <td>10</td>\n",
       "    </tr>\n",
       "  </tbody>\n",
       "</table>\n",
       "</div>"
      ],
      "text/plain": [
       "Buys_computer  No  Yes  sum\n",
       "Credit_rating              \n",
       "Excellent       5    5   10\n",
       "Fair            3    7   10"
      ]
     },
     "execution_count": 7,
     "metadata": {},
     "output_type": "execute_result"
    }
   ],
   "source": [
    "freq_credit_buys_computer = pd.crosstab(index=dt['Credit_rating'], columns=dt['Buys_computer'])\n",
    "freq_credit_buys_computer[\"sum\"] = freq_credit_buys_computer.sum(axis=1)\n",
    "freq_credit_buys_computer"
   ]
  },
  {
   "cell_type": "markdown",
   "id": "0b72c895",
   "metadata": {},
   "source": [
    "Calculation of individual entropy and information gain in Excel:"
   ]
  },
  {
   "cell_type": "markdown",
   "id": "c58fc9b2",
   "metadata": {},
   "source": [
    "![title](entropy_gain.png)"
   ]
  },
  {
   "cell_type": "markdown",
   "id": "310d1bd8",
   "metadata": {},
   "source": [
    "Creating functions for a decision tree based on information gain. I also tried to do this myself, but I ran into some problems, so I used a tutorial (see source):"
   ]
  },
  {
   "cell_type": "code",
   "execution_count": 8,
   "id": "2559fc6c",
   "metadata": {},
   "outputs": [],
   "source": [
    "# source: https://medium.com/geekculture/step-by-step-decision-tree-id3-algorithm-from-scratch-in-python-no-fancy-library-4822bbfdd88f\n",
    "\n",
    "def calc_total_entropy(train_data, label, class_list):\n",
    "    total_row = train_data.shape[0] #the total size of the dataset\n",
    "    total_entr = 0\n",
    "    \n",
    "    for c in class_list: #for each class in the label\n",
    "        total_class_count = train_data[train_data[label] == c].shape[0] #number of the class\n",
    "        total_class_entr = - (total_class_count/total_row)*np.log2(total_class_count/total_row) #entropy of the class\n",
    "        total_entr += total_class_entr #adding the class entropy to the total entropy of the dataset\n",
    "    \n",
    "    return total_entr\n",
    "\n",
    "def calc_entropy(feature_value_data, label, class_list):\n",
    "    class_count = feature_value_data.shape[0]\n",
    "    entropy = 0\n",
    "    \n",
    "    for c in class_list:\n",
    "        label_class_count = feature_value_data[feature_value_data[label] == c].shape[0] #row count of class c \n",
    "        entropy_class = 0\n",
    "        if label_class_count != 0:\n",
    "            probability_class = label_class_count/class_count #probability of the class\n",
    "            entropy_class = - probability_class * np.log2(probability_class)  #entropy\n",
    "        entropy += entropy_class\n",
    "    return entropy\n",
    "\n",
    "def calc_info_gain(feature_name, train_data, label, class_list):\n",
    "    feature_value_list = train_data[feature_name].unique() #unqiue values of the feature\n",
    "    total_row = train_data.shape[0]\n",
    "    feature_info = 0.0\n",
    "    \n",
    "    for feature_value in feature_value_list:\n",
    "        feature_value_data = train_data[train_data[feature_name] == feature_value] #filtering rows with that feature_value\n",
    "        feature_value_count = feature_value_data.shape[0]\n",
    "        feature_value_entropy = calc_entropy(feature_value_data, label, class_list) #calculcating entropy for the feature value\n",
    "        feature_value_probability = feature_value_count/total_row\n",
    "        feature_info += feature_value_probability * feature_value_entropy #calculating information of the feature value\n",
    "        \n",
    "    return calc_total_entropy(train_data, label, class_list) - feature_info #calculating information gain by subtracting\n",
    "\n",
    "def find_most_informative_feature(train_data, label, class_list):\n",
    "    feature_list = train_data.columns.drop(label) #finding the feature names in the dataset\n",
    "                                            #N.B. label is not a feature, so dropping it\n",
    "    max_info_gain = -1\n",
    "    max_info_feature = None\n",
    "    \n",
    "    for feature in feature_list:  #for each feature in the dataset\n",
    "        feature_info_gain = calc_info_gain(feature, train_data, label, class_list)\n",
    "        if max_info_gain < feature_info_gain: #selecting feature name with highest information gain\n",
    "            max_info_gain = feature_info_gain\n",
    "            max_info_feature = feature\n",
    "            \n",
    "    return max_info_feature\n",
    "\n",
    "def generate_sub_tree(feature_name, train_data, label, class_list):\n",
    "    feature_value_count_dict = train_data[feature_name].value_counts(sort=False) #dictionary of the count of unqiue feature value\n",
    "    tree = {} #sub tree or node\n",
    "    \n",
    "    for feature_value, count in feature_value_count_dict.iteritems():\n",
    "        feature_value_data = train_data[train_data[feature_name] == feature_value] #dataset with only feature_name = feature_value\n",
    "        \n",
    "        assigned_to_node = False #flag for tracking feature_value is pure class or not\n",
    "        for c in class_list: #for each class\n",
    "            class_count = feature_value_data[feature_value_data[label] == c].shape[0] #count of class c\n",
    "\n",
    "            if class_count == count: #count of feature_value = count of class (pure class)\n",
    "                tree[feature_value] = c #adding node to the tree\n",
    "                train_data = train_data[train_data[feature_name] != feature_value] #removing rows with feature_value\n",
    "                assigned_to_node = True\n",
    "        if not assigned_to_node: #not pure class\n",
    "            tree[feature_value] = \"?\" #should extend the node, so the branch is marked with ?\n",
    "            \n",
    "    return tree, train_data\n",
    "\n",
    "def make_tree(root, prev_feature_value, train_data, label, class_list):\n",
    "    if train_data.shape[0] != 0: #if dataset becomes enpty after updating\n",
    "        max_info_feature = find_most_informative_feature(train_data, label, class_list) #most informative feature\n",
    "        tree, train_data = generate_sub_tree(max_info_feature, train_data, label, class_list) #getting tree node and updated dataset\n",
    "        next_root = None\n",
    "        \n",
    "        if prev_feature_value != None: #add to intermediate node of the tree\n",
    "            root[prev_feature_value] = dict()\n",
    "            root[prev_feature_value][max_info_feature] = tree\n",
    "            next_root = root[prev_feature_value][max_info_feature]\n",
    "        else: #add to root of the tree\n",
    "            root[max_info_feature] = tree\n",
    "            next_root = root[max_info_feature]\n",
    "        \n",
    "        for node, branch in list(next_root.items()): #iterating the tree node\n",
    "            if branch == \"?\": #if it is expandable\n",
    "                feature_value_data = train_data[train_data[max_info_feature] == node] #using the updated dataset\n",
    "                make_tree(next_root, node, feature_value_data, label, class_list) #recursive call with updated dataset\n",
    "                \n",
    "def id3(train_data_m, label):\n",
    "    train_data = train_data_m.copy() #getting a copy of the dataset\n",
    "    tree = {} #tree which will be updated\n",
    "    class_list = train_data[label].unique() #getting unqiue classes of the label\n",
    "    make_tree(tree, None, train_data_m, label, class_list) #start calling recursion\n",
    "    return tree"
   ]
  },
  {
   "cell_type": "markdown",
   "id": "3356e4f0",
   "metadata": {},
   "source": [
    "Calculate the information gain of the first step to verify the calculations shown above in Excel:"
   ]
  },
  {
   "cell_type": "code",
   "execution_count": 9,
   "id": "5a0d6d6b",
   "metadata": {},
   "outputs": [
    {
     "name": "stdout",
     "output_type": "stream",
     "text": [
      "Information gain of 'Age':  0.3709505944546686\n",
      "Information gain of 'Income':  0.0016094970590274649\n",
      "Information gain of 'Student':  0.22437117627527592\n",
      "Information gain of 'Credit_rating':  0.03030514483932223\n"
     ]
    }
   ],
   "source": [
    "print(\"Information gain of 'Age': \", calc_info_gain('Age', dt, 'Buys_computer', dt['Buys_computer'].unique()))\n",
    "print(\"Information gain of 'Income': \", calc_info_gain('Income', dt, 'Buys_computer', dt['Buys_computer'].unique()))\n",
    "print(\"Information gain of 'Student': \", calc_info_gain('Student', dt, 'Buys_computer', dt['Buys_computer'].unique()))\n",
    "print(\"Information gain of 'Credit_rating': \", calc_info_gain('Credit_rating', dt, 'Buys_computer', dt['Buys_computer'].unique()))"
   ]
  },
  {
   "cell_type": "markdown",
   "id": "44812467",
   "metadata": {},
   "source": [
    "Creating a decision tree:"
   ]
  },
  {
   "cell_type": "code",
   "execution_count": 10,
   "id": "b5995f30",
   "metadata": {},
   "outputs": [
    {
     "name": "stdout",
     "output_type": "stream",
     "text": [
      "{'Age': {'<=30': {'Student': {'No': 'No', 'Yes': 'Yes'}}, '31...40': 'Yes', '>40': {'Credit_rating': {'Fair': 'Yes', 'Excellent': {'Income': {'Low': 'No', 'Medium': {'Student': {'No': 'No', 'Yes': 'Yes'}}}}}}}}\n"
     ]
    }
   ],
   "source": [
    "tree = id3(dt, 'Buys_computer')\n",
    "print(tree)"
   ]
  },
  {
   "cell_type": "markdown",
   "id": "3ed73e4c",
   "metadata": {},
   "source": [
    "B)"
   ]
  },
  {
   "cell_type": "markdown",
   "id": "a66b11db",
   "metadata": {},
   "source": [
    "Creating of a decision tree with sklearn (incl. encoding of the data set via OrdinalEncoder):"
   ]
  },
  {
   "cell_type": "code",
   "execution_count": 11,
   "id": "eed9fcec",
   "metadata": {},
   "outputs": [
    {
     "data": {
      "text/plain": [
       "DecisionTreeClassifier(max_depth=3)"
      ]
     },
     "execution_count": 11,
     "metadata": {},
     "output_type": "execute_result"
    }
   ],
   "source": [
    "from sklearn.tree import DecisionTreeClassifier\n",
    "from sklearn.preprocessing import OrdinalEncoder\n",
    "\n",
    "X = dt.drop('Buys_computer',axis=1)\n",
    "y = dt.drop(['Age', 'Income', 'Student', 'Credit_rating'], axis=1)\n",
    "\n",
    "cat_age = ['<=30','31...40','>40']\n",
    "cat_income = ['Low','Medium','High']\n",
    "cat_student = ['No','Yes']\n",
    "cat_credit = ['Fair','Excellent']\n",
    "\n",
    "enc = OrdinalEncoder(categories=[cat_age, cat_income, cat_student, cat_credit])\n",
    "X = enc.fit_transform(X)\n",
    "X = pd.DataFrame(X)\n",
    "X = X.rename(columns={0: \"Age\", 1: \"Income\", 2: \"Student\", 3: \"Credit_rating\"})\n",
    "\n",
    "tree_clf = DecisionTreeClassifier(max_depth=3)\n",
    "tree_clf.fit(X, y)"
   ]
  },
  {
   "cell_type": "markdown",
   "id": "acd2a976",
   "metadata": {},
   "source": [
    "Export the decision tree to be able to display it afterwards with WebGraphviz:"
   ]
  },
  {
   "cell_type": "code",
   "execution_count": 12,
   "id": "95c9b136",
   "metadata": {},
   "outputs": [],
   "source": [
    "from sklearn.tree import export_graphviz\n",
    " \n",
    "export_graphviz(\n",
    "         tree_clf,\n",
    "         out_file=\"visual.dot\",\n",
    "         feature_names=['Age', 'Income', 'Student', 'Credit_rating'],\n",
    "         rounded=True,\n",
    "         filled=True\n",
    " )"
   ]
  },
  {
   "cell_type": "markdown",
   "id": "90718b33",
   "metadata": {},
   "source": [
    "![title](sklearn_dtree.png)"
   ]
  },
  {
   "cell_type": "markdown",
   "id": "ea113e15",
   "metadata": {},
   "source": [
    "The decision tree is mainly different because only binary decisions are made in sklearn. In both cases, 'Age' is taken for the first division (logical, since it is the attribute with the highest information gain). However, in the manually created decision tree, the attribute is split into all 3 branches, and in the decision tree created by sklearn, it is split into 2 branches in the first step."
   ]
  }
 ],
 "metadata": {
  "kernelspec": {
   "display_name": "Python 3 (ipykernel)",
   "language": "python",
   "name": "python3"
  },
  "language_info": {
   "codemirror_mode": {
    "name": "ipython",
    "version": 3
   },
   "file_extension": ".py",
   "mimetype": "text/x-python",
   "name": "python",
   "nbconvert_exporter": "python",
   "pygments_lexer": "ipython3",
   "version": "3.9.7"
  }
 },
 "nbformat": 4,
 "nbformat_minor": 5
}
